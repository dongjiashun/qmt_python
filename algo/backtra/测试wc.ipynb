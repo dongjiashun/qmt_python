{
 "cells": [
  {
   "cell_type": "code",
   "execution_count": 3,
   "id": "1468830a-2429-420e-a626-0e9c6fe83438",
   "metadata": {},
   "outputs": [],
   "source": [
    "import pywencai as wc\n",
    "import pandas as pd\n",
    "import numpy as np\n",
    "from akshare import stock_zh_a_hist"
   ]
  },
  {
   "cell_type": "markdown",
   "id": "54d47118-e72c-48f8-a881-fc66159daddc",
   "metadata": {},
   "source": [
    "获取数据"
   ]
  },
  {
   "cell_type": "code",
   "execution_count": null,
   "id": "98386458-097e-499e-aef5-b8090fe3c153",
   "metadata": {},
   "outputs": [],
   "source": [
    "data = stock_zh_a_hist(symbol='')"
   ]
  }
 ],
 "metadata": {
  "kernelspec": {
   "display_name": "Python 3 (ipykernel)",
   "language": "python",
   "name": "python3"
  },
  "language_info": {
   "codemirror_mode": {
    "name": "ipython",
    "version": 3
   },
   "file_extension": ".py",
   "mimetype": "text/x-python",
   "name": "python",
   "nbconvert_exporter": "python",
   "pygments_lexer": "ipython3",
   "version": "3.11.4"
  }
 },
 "nbformat": 4,
 "nbformat_minor": 5
}
