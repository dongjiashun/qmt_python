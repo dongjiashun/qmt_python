{
 "cells": [
  {
   "cell_type": "code",
   "execution_count": 1,
   "id": "d7bdb898-57d4-4fff-95c3-62937342ec1c",
   "metadata": {},
   "outputs": [],
   "source": [
    "import pandas as pd\n",
    "import numpy as np"
   ]
  },
  {
   "cell_type": "code",
   "execution_count": 6,
   "id": "003eb85b-d258-4ac7-b771-fe859d4e98ed",
   "metadata": {},
   "outputs": [
    {
     "name": "stdout",
     "output_type": "stream",
     "text": [
      "           Pclass         Age       SibSp       Parch        Fare\n",
      "count  891.000000  714.000000  891.000000  891.000000  891.000000\n",
      "mean     2.308642   29.699118    0.523008    0.381594   32.204208\n",
      "std      0.836071   14.526497    1.102743    0.806057   49.693429\n",
      "min      1.000000    0.420000    0.000000    0.000000    0.000000\n",
      "25%      2.000000   20.125000    0.000000    0.000000    7.910400\n",
      "50%      3.000000   28.000000    0.000000    0.000000   14.454200\n",
      "75%      3.000000   38.000000    1.000000    0.000000   31.000000\n",
      "max      3.000000   80.000000    8.000000    6.000000  512.329200\n"
     ]
    }
   ],
   "source": [
    "data = pd.DataFrame(pd.read_csv('train.csv'))\n",
    "data_test = pd.DataFrame(pd.read_csv('test.csv'))\n",
    "data_test = data_test[[\"Pclass\",\"Name\",\"Sex\",\"Age\",\"SibSp\",\"Parch\",\"Ticket\",\"Fare\",\"Cabin\",\"Embarked\"]]\n",
    "x = data[[\"Pclass\",\"Name\",\"Sex\",\"Age\",\"SibSp\",\"Parch\",\"Ticket\",\"Fare\",\"Cabin\",\"Embarked\"]]\n",
    "y = data[[\"Survived\"]]\n",
    "print(x.describe())\n",
    "print(x.describe(include=['O']))\n",
    "print(data_test.describe())\n",
    "print(data_test.describe(include=['O']))"
   ]
  },
  {
   "cell_type": "code",
   "execution_count": null,
   "id": "ba7bf7b8-9299-4bf5-a534-8f6c71f6ce71",
   "metadata": {},
   "outputs": [],
   "source": []
  }
 ],
 "metadata": {
  "kernelspec": {
   "display_name": "Python 3 (ipykernel)",
   "language": "python",
   "name": "python3"
  },
  "language_info": {
   "codemirror_mode": {
    "name": "ipython",
    "version": 3
   },
   "file_extension": ".py",
   "mimetype": "text/x-python",
   "name": "python",
   "nbconvert_exporter": "python",
   "pygments_lexer": "ipython3",
   "version": "3.11.4"
  }
 },
 "nbformat": 4,
 "nbformat_minor": 5
}
