{
 "cells": [
  {
   "cell_type": "code",
   "execution_count": 1,
   "id": "ff3c7776-dc45-4616-8b43-4d58c91cd632",
   "metadata": {},
   "outputs": [],
   "source": [
    "import pywencai as wc"
   ]
  },
  {
   "cell_type": "code",
   "execution_count": 2,
   "id": "e7849bf5-d0d0-4811-acf5-6728c10edb15",
   "metadata": {},
   "outputs": [],
   "source": [
    "CompanyObj = wc.get(query='吉比特')"
   ]
  },
  {
   "cell_type": "code",
   "execution_count": null,
   "id": "8511078e-0f47-49cd-9f7c-ef875aa073ca",
   "metadata": {},
   "outputs": [],
   "source": [
    "a0 = CompanyObj['container']\n",
    "a1 = CompanyObj['简介和看点']\n",
    "a2 = CompanyObj['imporessionLabel']\n",
    "a3 = CompanyObj['近期重要事件']\n",
    "a4 = CompanyObj['所属概念列表']\n",
    "a5 = CompanyObj['北向资金流向情况']\n",
    "a6 = CompanyObj['历史主力资金流向']\n",
    "a7 = CompanyObj['barline3']\n",
    "a9 = CompanyObj['DDE散户数量变化']\n",
    "a10 = CompanyObj['龙虎榜分析']\n",
    "a11 = CompanyObj['支撑位压力位']\n",
    "a12 = CompanyObj['kline2']\n",
    "a13 = CompanyObj['财务数据']\n",
    "a14 = CompanyObj['估值指标']\n",
    "a15 = CompanyObj['十大股东持股比例']\n",
    "a16 = CompanyObj['重要新闻']\n",
    "a17 = CompanyObj['投顾点评']\n",
    "a18 = CompanyObj['牛叉诊股']\n",
    "a19 = CompanyObj['文本标题h1']\n",
    "a20 = CompanyObj['历史龙虎榜']"
   ]
  }
 ],
 "metadata": {
  "kernelspec": {
   "display_name": "Python 3 (ipykernel)",
   "language": "python",
   "name": "python3"
  },
  "language_info": {
   "codemirror_mode": {
    "name": "ipython",
    "version": 3
   },
   "file_extension": ".py",
   "mimetype": "text/x-python",
   "name": "python",
   "nbconvert_exporter": "python",
   "pygments_lexer": "ipython3",
   "version": "3.11.4"
  }
 },
 "nbformat": 4,
 "nbformat_minor": 5
}
